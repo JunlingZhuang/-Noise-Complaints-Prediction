{
 "cells": [
  {
   "cell_type": "code",
   "execution_count": 1,
   "id": "67fa888e-ef47-41cd-9d77-01b6b7650c55",
   "metadata": {},
   "outputs": [],
   "source": [
    "import geopandas as gpd\n",
    "import rasterio\n",
    "import rasterio.mask\n",
    "import numpy as np\n",
    "import pandas as pd"
   ]
  },
  {
   "cell_type": "code",
   "execution_count": 5,
   "id": "db713447-16ac-4c6c-81ad-9fbd155f3d30",
   "metadata": {},
   "outputs": [],
   "source": [
    "# 读取纽约市2017年的Land Cover数据集\n",
    "land_cover_path = \"E:\\\\Master Works\\\\Urban marchine learning\\\\Lab\\\\Land cover_2017_NYC.tif\"\n",
    "land_cover_data = rasterio.open(land_cover_path)\n",
    "\n",
    "# 读取曼哈顿岛上不同社区区域的geojson文件\n",
    "geojson_path = \"E:\\\\Master Works\\\\Urban marchine learning\\\\Lab\\\\0.geojson\"\n",
    "communities = gpd.read_file(geojson_path)\n",
    "\n",
    "# 检查CRS是否相同，如果不同则重新投影\n",
    "if communities.crs != land_cover_data.crs:\n",
    "    communities = communities.to_crs(land_cover_data.crs)"
   ]
  },
  {
   "cell_type": "code",
   "execution_count": null,
   "id": "3bea3daf-1715-4ba8-a23b-ed377e94387d",
   "metadata": {},
   "outputs": [],
   "source": [
    "# Land cover值与类型映射\n",
    "value_mapping = {\n",
    "    1: \"Tree Canopy\",\n",
    "    2: \"Grass/Shrubs\",\n",
    "    3: \"Bare Soil\",\n",
    "    4: \"Water\",\n",
    "    5: \"Buildings\",\n",
    "    6: \"Roads\",\n",
    "    7: \"Other Impervious\",\n",
    "    8: \"Railroads\",\n",
    "}\n",
    "\n",
    "results = []\n",
    "\n",
    "# 获取像素大小（平方米）\n",
    "pixel_size = land_cover_data.transform[0] * land_cover_data.transform[4]\n",
    "\n",
    "\n",
    "# 遍历每个社区\n",
    "total_communities = len(communities)\n",
    "for index, community in communities.iterrows():\n",
    "    try:\n",
    "        # 裁剪Land Cover数据集\n",
    "        masked, transform = rasterio.mask.mask(land_cover_data, [community.geometry], crop=True)\n",
    "        masked = masked[0]\n",
    "\n",
    "        # 统计land cover类型\n",
    "        unique, counts = np.unique(masked, return_counts=True)\n",
    "        total_pixels = masked.size\n",
    "\n",
    "        # 计算面积和百分比\n",
    "        areas = dict(zip(unique, counts * pixel_size))\n",
    "        percentages = dict(zip(unique, counts / total_pixels * 100))\n",
    "\n",
    "        # 将像素值转换为land cover类型\n",
    "        areas = {value_mapping.get(k, k): v for k, v in areas.items() if k != 0}\n",
    "        percentages = {value_mapping.get(k, k): v for k, v in percentages.items() if k != 0}\n",
    "\n",
    "        # 合并面积和百分比字典\n",
    "        result = {f\"{k} Area\": v for k, v in areas.items()}\n",
    "        result.update({f\"{k} Percentage\": v for k, v in percentages.items()})\n",
    "        result[\"ElectDist\"] = community[\"ElectDist\"]\n",
    "\n",
    "        results.append(result)\n",
    "\n",
    "        # 显示进度百分比\n",
    "        progress = (index + 1) / total_communities * 100\n",
    "        print(f\"Progress: {progress:.2f}%\")\n",
    "    except ValueError as e:\n",
    "        print(f\"Error for community '{community['ElectDist']}': {e}\")\n"
   ]
  },
  {
   "cell_type": "code",
   "execution_count": null,
   "id": "c18f27e6-3352-4cfa-abaf-377ff5a36389",
   "metadata": {},
   "outputs": [],
   "source": [
    "# 输出结果到CSV文件\n",
    "df = pd.DataFrame(results)\n",
    "column_order = [\"ElectDist\"] + [f\"{value_mapping[val]} {metric}\" for val in sorted(value_mapping.keys()) for metric in [\"Area\", \"Percentage\"]]\n",
    "df = df[column_order]\n",
    "df.to_csv(\"land_cover_areas_percentages.csv\", index=False)"
   ]
  },
  {
   "cell_type": "code",
   "execution_count": null,
   "id": "afdf5f0c-605d-42ec-97cc-db8b50379f63",
   "metadata": {},
   "outputs": [],
   "source": []
  }
 ],
 "metadata": {
  "kernelspec": {
   "display_name": "python39",
   "language": "python",
   "name": "python39"
  },
  "language_info": {
   "codemirror_mode": {
    "name": "ipython",
    "version": 3
   },
   "file_extension": ".py",
   "mimetype": "text/x-python",
   "name": "python",
   "nbconvert_exporter": "python",
   "pygments_lexer": "ipython3",
   "version": "3.10.6"
  }
 },
 "nbformat": 4,
 "nbformat_minor": 5
}
